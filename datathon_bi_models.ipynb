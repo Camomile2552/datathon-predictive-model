{
  "nbformat": 4,
  "nbformat_minor": 0,
  "metadata": {
    "colab": {
      "provenance": []
    },
    "kernelspec": {
      "name": "python3",
      "display_name": "Python 3"
    },
    "language_info": {
      "name": "python"
    }
  },
  "cells": [
    {
      "cell_type": "code",
      "execution_count": null,
      "metadata": {
        "id": "fD5X__Ve9G5V"
      },
      "outputs": [],
      "source": [
        "import pandas as pd\n",
        "import numpy as np\n",
        "import matplotlib.pyplot as plt\n",
        "import seaborn as sns\n",
        "from sklearn.linear_model import LogisticRegression\n",
        "from sklearn.ensemble import RandomForestClassifier\n",
        "from sklearn.svm import SVC\n",
        "from sklearn.neural_network import MLPClassifier\n",
        "from sklearn.model_selection import train_test_split\n",
        "from sklearn.metrics import accuracy_score"
      ]
    },
    {
      "cell_type": "code",
      "source": [
        "train = pd.read_csv('train_reduced.csv')\n",
        "test = pd.read_csv('test_reduced.csv')\n",
        "\n",
        "X_train = train.drop('is_sale', axis=1)\n",
        "y_train = train['is_sale']\n",
        "\n",
        "X_test = test\n",
        "X_train = X_train.drop('PHONE_NUMBER', axis = 1)\n",
        "X_test = X_test.drop('IIN', axis = 1)\n",
        "\n",
        "print(X_train.shape)\n",
        "print(y_train.shape)\n",
        "print(X_test.shape)"
      ],
      "metadata": {
        "id": "7VItnPPT9YKC",
        "colab": {
          "base_uri": "https://localhost:8080/"
        },
        "outputId": "dca28c77-63a9-4924-adf3-2ee81c02cb7e"
      },
      "execution_count": null,
      "outputs": [
        {
          "output_type": "stream",
          "name": "stdout",
          "text": [
            "(4676, 64)\n",
            "(4676,)\n",
            "(2902, 64)\n"
          ]
        }
      ]
    },
    {
      "cell_type": "code",
      "source": [
        "X_train, X_val, y_train, y_val = train_test_split(X_train, y_train, random_state=0, shuffle=True, test_size=0.1)"
      ],
      "metadata": {
        "id": "5wmvZU9VAVM6"
      },
      "execution_count": null,
      "outputs": []
    },
    {
      "cell_type": "code",
      "source": [
        "#OPTIONAL\n",
        "logr_model = LogisticRegression()\n",
        "logr_model.fit(X_train, y_train)\n",
        "y_pred = logr_model.predict(X_val)\n",
        "\n",
        "print('The validation accuracy Logistic Regression:', str(accuracy_score(y_val, y_pred)))\n",
        "\n",
        "y_test = logr_model.predict(X_test)\n",
        "\n",
        "print(len(y_test))\n",
        "\n",
        "answer = pd.DataFrame()\n",
        "\n",
        "answer['ID'] = [i for i in range(1, len(y_test) + 1)]\n",
        "answer['Target'] = y_test\n",
        "\n",
        "\n",
        "print(answer)\n",
        "answer.to_csv('answer_logr.csv', index=False)"
      ],
      "metadata": {
        "id": "1_850dI29g7y",
        "colab": {
          "base_uri": "https://localhost:8080/"
        },
        "outputId": "3ecb4f6f-cf56-4962-8bc5-2d5028f2f98e"
      },
      "execution_count": null,
      "outputs": [
        {
          "output_type": "stream",
          "name": "stdout",
          "text": [
            "The validation accuracy Logistic Regression: 0.9273504273504274\n",
            "2902\n",
            "        ID  Target\n",
            "0        1       0\n",
            "1        2       0\n",
            "2        3       0\n",
            "3        4       0\n",
            "4        5       0\n",
            "...    ...     ...\n",
            "2897  2898       0\n",
            "2898  2899       0\n",
            "2899  2900       0\n",
            "2900  2901       0\n",
            "2901  2902       0\n",
            "\n",
            "[2902 rows x 2 columns]\n"
          ]
        },
        {
          "output_type": "stream",
          "name": "stderr",
          "text": [
            "/usr/local/lib/python3.10/dist-packages/sklearn/linear_model/_logistic.py:469: ConvergenceWarning: lbfgs failed to converge (status=1):\n",
            "STOP: TOTAL NO. of ITERATIONS REACHED LIMIT.\n",
            "\n",
            "Increase the number of iterations (max_iter) or scale the data as shown in:\n",
            "    https://scikit-learn.org/stable/modules/preprocessing.html\n",
            "Please also refer to the documentation for alternative solver options:\n",
            "    https://scikit-learn.org/stable/modules/linear_model.html#logistic-regression\n",
            "  n_iter_i = _check_optimize_result(\n"
          ]
        }
      ]
    },
    {
      "cell_type": "code",
      "source": [
        "#OPTIONAL\n",
        "rfc_model = RandomForestClassifier()\n",
        "rfc_model.fit(X_train, y_train)\n",
        "y_pred = rfc_model.predict(X_val)\n",
        "\n",
        "print('The validation accuracy RandomForest Classifier:', str(accuracy_score(y_val, y_pred)))\n",
        "\n",
        "y_test = rfc_model.predict(X_test)\n",
        "\n",
        "print(len(y_test))\n",
        "\n",
        "answer = pd.DataFrame()\n",
        "\n",
        "answer['ID'] = [i for i in range(1, len(y_test) + 1)]\n",
        "answer['Target'] = y_test\n",
        "\n",
        "answer.to_csv('answer_rfc.csv', index=False)"
      ],
      "metadata": {
        "id": "bBjzfVlx9m16",
        "colab": {
          "base_uri": "https://localhost:8080/"
        },
        "outputId": "7cfe332d-5463-4a77-ecef-963a28440e8a"
      },
      "execution_count": null,
      "outputs": [
        {
          "output_type": "stream",
          "name": "stdout",
          "text": [
            "The validation accuracy RandomForest Classifier: 0.9273504273504274\n",
            "2902\n"
          ]
        }
      ]
    },
    {
      "cell_type": "code",
      "source": [
        "svc_model = SVC()\n",
        "svc_model.fit(X_train, y_train)\n",
        "y_val = svc_model.predict(X_val)\n",
        "\n",
        "print('The validation accuracy Support Vector Classifier:', str(accuracy_score(y_val, y_pred)))\n",
        "\n",
        "y_test = svc_model.predict(X_test)\n",
        "\n",
        "print(len(y_test))\n",
        "\n",
        "answer = pd.DataFrame()\n",
        "\n",
        "answer['ID'] = [i for i in range(1, len(y_test) + 1)]\n",
        "answer['Target'] = y_test\n",
        "\n",
        "answer.to_csv('answer_svc.csv', index=False)"
      ],
      "metadata": {
        "id": "IcH1PEGA9rNB",
        "colab": {
          "base_uri": "https://localhost:8080/"
        },
        "outputId": "32ee742b-479f-45fc-c98f-8b9dd740f10b"
      },
      "execution_count": null,
      "outputs": [
        {
          "output_type": "stream",
          "name": "stdout",
          "text": [
            "The validation accuracy Support Vector Classifier: 1.0\n",
            "2902\n"
          ]
        }
      ]
    },
    {
      "cell_type": "code",
      "source": [
        "mlpc_model = MLPClassifier()\n",
        "mlpc_model.fit(X_train, y_train)\n",
        "y_val = mlpc_model.predict(X_val)\n",
        "\n",
        "print('The validation accuracy for MLP Classifier:', str(accuracy_score(y_val, y_pred)))\n",
        "\n",
        "y_test = mlpc_model.predict(X_test)\n",
        "\n",
        "print(len(y_test))\n",
        "\n",
        "answer = pd.DataFrame()\n",
        "\n",
        "answer['ID'] = [i for i in range(1, len(y_test) + 1)]\n",
        "answer['Target'] = y_test\n",
        "\n",
        "answer.to_csv('answer_mlpc.csv', index=False)"
      ],
      "metadata": {
        "id": "iwFKumsZ9wxa",
        "colab": {
          "base_uri": "https://localhost:8080/"
        },
        "outputId": "4cf9af5b-3849-404a-a5d7-65da60fbb6ae"
      },
      "execution_count": null,
      "outputs": [
        {
          "output_type": "stream",
          "name": "stdout",
          "text": [
            "The validation accuracy for MLP Classifier: 0.967948717948718\n",
            "2902\n"
          ]
        },
        {
          "output_type": "stream",
          "name": "stderr",
          "text": [
            "/usr/local/lib/python3.10/dist-packages/sklearn/neural_network/_multilayer_perceptron.py:690: ConvergenceWarning: Stochastic Optimizer: Maximum iterations (200) reached and the optimization hasn't converged yet.\n",
            "  warnings.warn(\n"
          ]
        }
      ]
    }
  ]
}